{
 "cells": [
  {
   "cell_type": "code",
   "execution_count": 2,
   "metadata": {},
   "outputs": [
    {
     "ename": "FileNotFoundError",
     "evalue": "No folder found for CA-2021",
     "output_type": "error",
     "traceback": [
      "\u001b[0;31m---------------------------------------------------------------------------\u001b[0m",
      "\u001b[0;31mFileNotFoundError\u001b[0m                         Traceback (most recent call last)",
      "\u001b[0;32m<ipython-input-2-84eeb2cb126d>\u001b[0m in \u001b[0;36m<module>\u001b[0;34m\u001b[0m\n\u001b[1;32m      8\u001b[0m \u001b[0;34m\u001b[0m\u001b[0m\n\u001b[1;32m      9\u001b[0m \u001b[0;31m# Load California FBI data\u001b[0m\u001b[0;34m\u001b[0m\u001b[0;34m\u001b[0m\u001b[0;34m\u001b[0m\u001b[0m\n\u001b[0;32m---> 10\u001b[0;31m \u001b[0mnibrs_ca\u001b[0m \u001b[0;34m=\u001b[0m \u001b[0mload_state_nibrs\u001b[0m\u001b[0;34m(\u001b[0m\u001b[0;34m\"CA\"\u001b[0m\u001b[0;34m)\u001b[0m\u001b[0;34m\u001b[0m\u001b[0;34m\u001b[0m\u001b[0m\n\u001b[0m\u001b[1;32m     11\u001b[0m \u001b[0;34m\u001b[0m\u001b[0m\n\u001b[1;32m     12\u001b[0m \u001b[0;31m# Preview the incident table\u001b[0m\u001b[0;34m\u001b[0m\u001b[0;34m\u001b[0m\u001b[0;34m\u001b[0m\u001b[0m\n",
      "\u001b[0;32m~/crime-etl-portfolio/crime-etl-portfolio/src/etl/load_data.py\u001b[0m in \u001b[0;36mload_state_nibrs\u001b[0;34m(state_code, base_path)\u001b[0m\n\u001b[1;32m     20\u001b[0m     \u001b[0mstate_path\u001b[0m \u001b[0;34m=\u001b[0m \u001b[0mos\u001b[0m\u001b[0;34m.\u001b[0m\u001b[0mpath\u001b[0m\u001b[0;34m.\u001b[0m\u001b[0mjoin\u001b[0m\u001b[0;34m(\u001b[0m\u001b[0mbase_path\u001b[0m\u001b[0;34m,\u001b[0m \u001b[0;34mf\"{state_code}-2021\"\u001b[0m\u001b[0;34m)\u001b[0m\u001b[0;34m\u001b[0m\u001b[0;34m\u001b[0m\u001b[0m\n\u001b[1;32m     21\u001b[0m     \u001b[0;32mif\u001b[0m \u001b[0;32mnot\u001b[0m \u001b[0mos\u001b[0m\u001b[0;34m.\u001b[0m\u001b[0mpath\u001b[0m\u001b[0;34m.\u001b[0m\u001b[0mexists\u001b[0m\u001b[0;34m(\u001b[0m\u001b[0mstate_path\u001b[0m\u001b[0;34m)\u001b[0m\u001b[0;34m:\u001b[0m\u001b[0;34m\u001b[0m\u001b[0;34m\u001b[0m\u001b[0m\n\u001b[0;32m---> 22\u001b[0;31m         \u001b[0;32mraise\u001b[0m \u001b[0mFileNotFoundError\u001b[0m\u001b[0;34m(\u001b[0m\u001b[0;34mf\"No folder found for {state_code}-2021\"\u001b[0m\u001b[0;34m)\u001b[0m\u001b[0;34m\u001b[0m\u001b[0;34m\u001b[0m\u001b[0m\n\u001b[0m\u001b[1;32m     23\u001b[0m \u001b[0;34m\u001b[0m\u001b[0m\n\u001b[1;32m     24\u001b[0m     \u001b[0mdataframes\u001b[0m \u001b[0;34m=\u001b[0m \u001b[0;34m{\u001b[0m\u001b[0;34m}\u001b[0m\u001b[0;34m\u001b[0m\u001b[0;34m\u001b[0m\u001b[0m\n",
      "\u001b[0;31mFileNotFoundError\u001b[0m: No folder found for CA-2021"
     ]
    }
   ],
   "source": [
    "import sys, os\n",
    "\n",
    "# add project root to Python path\n",
    "sys.path.append(os.path.abspath(\"..\"))\n",
    "\n",
    "from src.etl.load_data import load_state_nibrs\n",
    "import pandas as pd\n",
    "\n",
    "# Load California FBI data\n",
    "nibrs_ca = load_state_nibrs(\"CA\")\n",
    "\n",
    "# Preview the incident table\n",
    "nibrs_ca[\"incident\"].head()\n"
   ]
  },
  {
   "cell_type": "code",
   "execution_count": 8,
   "metadata": {},
   "outputs": [
    {
     "name": "stdout",
     "output_type": "stream",
     "text": [
      "✅ Loaded nibrs_prop_desc_type with 68 rows for CA\n",
      "✅ Loaded nibrs_weapon_type with 28 rows for CA\n",
      "✅ Loaded nibrs_assignment_type with 7 rows for CA\n",
      "✅ Loaded ref_race with 12 rows for CA\n",
      "✅ Loaded nibrs_arrest_type with 3 rows for CA\n",
      "✅ Loaded nibrs_suspected_drug with 14,460 rows for CA\n",
      "✅ Loaded nibrs_age with 104 rows for CA\n",
      "✅ Loaded nibrs_injury with 8 rows for CA\n",
      "✅ Loaded nibrs_arrestee with 39,567 rows for CA\n",
      "✅ Loaded nibrs_victim_injury with 33,404 rows for CA\n",
      "✅ Loaded nibrs_prop_loss_type with 8 rows for CA\n",
      "✅ Loaded nibrs_ethnicity with 5 rows for CA\n",
      "✅ Loaded nibrs_property_desc with 133,243 rows for CA\n",
      "✅ Loaded nibrs_justifiable_force with 8 rows for CA\n",
      "✅ Loaded nibrs_suspected_drug_type with 18 rows for CA\n",
      "✅ Loaded nibrs_relationship with 27 rows for CA\n",
      "✅ Loaded nibrs_bias_motivation with 136,848 rows for CA\n",
      "✅ Loaded agencies with 15 rows for CA\n",
      "✅ Loaded nibrs_using_list with 4 rows for CA\n",
      "✅ Loaded nibrs_criminal_act with 28,714 rows for CA\n"
     ]
    },
    {
     "name": "stderr",
     "output_type": "stream",
     "text": [
      "/Users/johnschmidt/opt/anaconda3/lib/python3.8/site-packages/IPython/core/interactiveshell.py:3357: DtypeWarning: Columns (6) have mixed types.Specify dtype option on import or set low_memory=False.\n",
      "  if (await self.run_code(code, result,  async_=asy)):\n"
     ]
    },
    {
     "name": "stdout",
     "output_type": "stream",
     "text": [
      "✅ Loaded nibrs_month with 118,176 rows for CA\n",
      "✅ Loaded nibrs_offense_type with 86 rows for CA\n",
      "✅ Loaded nibrs_weapon with 33,683 rows for CA\n",
      "✅ Loaded nibrs_victim_type with 9 rows for CA\n",
      "✅ Loaded nibrs_bias_list with 36 rows for CA\n",
      "✅ Loaded nibrs_incident with 118,176 rows for CA\n",
      "✅ Loaded nibrs_drug_measure_type with 11 rows for CA\n",
      "✅ Loaded ref_state with 59 rows for CA\n",
      "✅ Loaded nibrs_property with 109,667 rows for CA\n",
      "✅ Loaded nibrs_victim_circumstances with 2 rows for CA\n",
      "✅ Loaded nibrs_activity_type with 11 rows for CA\n",
      "✅ Loaded nibrs_circumstances with 17 rows for CA\n",
      "✅ Loaded nibrs_cleared_except with 6 rows for CA\n",
      "✅ Loaded nibrs_offense with 136,848 rows for CA\n",
      "✅ Loaded nibrs_criminal_act_type with 15 rows for CA\n",
      "✅ Loaded nibrs_offender with 131,342 rows for CA\n",
      "✅ Loaded nibrs_arrestee_weapon with 39,570 rows for CA\n",
      "✅ Loaded nibrs_victim_offense with 148,672 rows for CA\n",
      "✅ Loaded nibrs_victim with 133,987 rows for CA\n",
      "✅ Loaded nibrs_location_type with 47 rows for CA\n",
      "✅ Loaded nibrs_suspect_using with 137,053 rows for CA\n",
      "✅ Loaded nibrs_victim_offender_rel with 39,187 rows for CA\n"
     ]
    },
    {
     "data": {
      "text/plain": [
       "['nibrs_prop_desc_type',\n",
       " 'nibrs_weapon_type',\n",
       " 'nibrs_assignment_type',\n",
       " 'ref_race',\n",
       " 'nibrs_arrest_type',\n",
       " 'nibrs_suspected_drug',\n",
       " 'nibrs_age',\n",
       " 'nibrs_injury',\n",
       " 'nibrs_arrestee',\n",
       " 'nibrs_victim_injury']"
      ]
     },
     "execution_count": 8,
     "metadata": {},
     "output_type": "execute_result"
    }
   ],
   "source": [
    "from src.etl.load_data import load_state_nibrs\n",
    "\n",
    "# Load California NIBRS 2021 data\n",
    "nibrs_ca = load_state_nibrs(\"CA\", base_path=\"../raw_data/FBI NIBRS Crime Data 2021\")\n",
    "\n",
    "# Check what tables you have\n",
    "list(nibrs_ca.keys())[:10]\n"
   ]
  },
  {
   "cell_type": "code",
   "execution_count": 6,
   "metadata": {},
   "outputs": [
    {
     "name": "stdout",
     "output_type": "stream",
     "text": [
      "/Users/johnschmidt/crime-etl-portfolio/crime-etl-portfolio/notebooks\n"
     ]
    }
   ],
   "source": [
    "import os\n",
    "print(os.getcwd())\n"
   ]
  },
  {
   "cell_type": "code",
   "execution_count": 7,
   "metadata": {},
   "outputs": [
    {
     "name": "stdout",
     "output_type": "stream",
     "text": [
      "eda.ipynb\n"
     ]
    }
   ],
   "source": [
    "!ls"
   ]
  },
  {
   "cell_type": "code",
   "execution_count": 9,
   "metadata": {},
   "outputs": [
    {
     "name": "stdout",
     "output_type": "stream",
     "text": [
      "   data_year  agency_id  incident_id  nibrs_month_id cargo_theft_flag  \\\n",
      "0       2021       1516    141774651        40314544                f   \n",
      "1       2021       1516    136500530         3105156                f   \n",
      "2       2021       1516    136580646         3105156                f   \n",
      "3       2021       1516    136530548         3105156                f   \n",
      "4       2021       1516    136516079         3105156                f   \n",
      "\n",
      "           submission_date incident_date report_date_flag  incident_hour  \\\n",
      "0  2021-09-03 15:14:09.574    2021-08-26                f           12.0   \n",
      "1  2021-04-01 16:21:26.134    2021-01-01                f            0.0   \n",
      "2  2021-04-07 16:16:36.326    2021-01-01                f            0.0   \n",
      "3  2021-04-06 17:20:40.595    2021-01-01                f            1.0   \n",
      "4   2021-04-03 00:07:12.33    2021-01-01                f            0.0   \n",
      "\n",
      "   cleared_except_id cleared_except_date incident_status  data_home  \\\n",
      "0                  6                 NaN        ACCEPTED        NaN   \n",
      "1                  6                 NaN        ACCEPTED        NaN   \n",
      "2                  6                 NaN        ACCEPTED        NaN   \n",
      "3                  6                 NaN        ACCEPTED        NaN   \n",
      "4                  2          2021-04-02        ACCEPTED        NaN   \n",
      "\n",
      "  orig_format        did  \n",
      "0           X  110753366  \n",
      "1           X   99192428  \n",
      "2           X   99434989  \n",
      "3           X   99287080  \n",
      "4           X   99243789  \n"
     ]
    },
    {
     "ename": "KeyError",
     "evalue": "'INCIDENT_MONTH'",
     "output_type": "error",
     "traceback": [
      "\u001b[0;31m---------------------------------------------------------------------------\u001b[0m",
      "\u001b[0;31mKeyError\u001b[0m                                  Traceback (most recent call last)",
      "\u001b[0;32m~/opt/anaconda3/lib/python3.8/site-packages/pandas/core/indexes/base.py\u001b[0m in \u001b[0;36mget_loc\u001b[0;34m(self, key, method, tolerance)\u001b[0m\n\u001b[1;32m   3079\u001b[0m             \u001b[0;32mtry\u001b[0m\u001b[0;34m:\u001b[0m\u001b[0;34m\u001b[0m\u001b[0;34m\u001b[0m\u001b[0m\n\u001b[0;32m-> 3080\u001b[0;31m                 \u001b[0;32mreturn\u001b[0m \u001b[0mself\u001b[0m\u001b[0;34m.\u001b[0m\u001b[0m_engine\u001b[0m\u001b[0;34m.\u001b[0m\u001b[0mget_loc\u001b[0m\u001b[0;34m(\u001b[0m\u001b[0mcasted_key\u001b[0m\u001b[0;34m)\u001b[0m\u001b[0;34m\u001b[0m\u001b[0;34m\u001b[0m\u001b[0m\n\u001b[0m\u001b[1;32m   3081\u001b[0m             \u001b[0;32mexcept\u001b[0m \u001b[0mKeyError\u001b[0m \u001b[0;32mas\u001b[0m \u001b[0merr\u001b[0m\u001b[0;34m:\u001b[0m\u001b[0;34m\u001b[0m\u001b[0;34m\u001b[0m\u001b[0m\n",
      "\u001b[0;32mpandas/_libs/index.pyx\u001b[0m in \u001b[0;36mpandas._libs.index.IndexEngine.get_loc\u001b[0;34m()\u001b[0m\n",
      "\u001b[0;32mpandas/_libs/index.pyx\u001b[0m in \u001b[0;36mpandas._libs.index.IndexEngine.get_loc\u001b[0;34m()\u001b[0m\n",
      "\u001b[0;32mpandas/_libs/hashtable_class_helper.pxi\u001b[0m in \u001b[0;36mpandas._libs.hashtable.PyObjectHashTable.get_item\u001b[0;34m()\u001b[0m\n",
      "\u001b[0;32mpandas/_libs/hashtable_class_helper.pxi\u001b[0m in \u001b[0;36mpandas._libs.hashtable.PyObjectHashTable.get_item\u001b[0;34m()\u001b[0m\n",
      "\u001b[0;31mKeyError\u001b[0m: 'INCIDENT_MONTH'",
      "\nThe above exception was the direct cause of the following exception:\n",
      "\u001b[0;31mKeyError\u001b[0m                                  Traceback (most recent call last)",
      "\u001b[0;32m<ipython-input-9-3d3c1c2ea83e>\u001b[0m in \u001b[0;36m<module>\u001b[0;34m\u001b[0m\n\u001b[1;32m      6\u001b[0m \u001b[0;31m# Count incidents by month\u001b[0m\u001b[0;34m\u001b[0m\u001b[0;34m\u001b[0m\u001b[0;34m\u001b[0m\u001b[0m\n\u001b[1;32m      7\u001b[0m \u001b[0mincidents\u001b[0m \u001b[0;34m=\u001b[0m \u001b[0mnibrs_ca\u001b[0m\u001b[0;34m[\u001b[0m\u001b[0;34m\"nibrs_incident\"\u001b[0m\u001b[0;34m]\u001b[0m\u001b[0;34m\u001b[0m\u001b[0;34m\u001b[0m\u001b[0m\n\u001b[0;32m----> 8\u001b[0;31m \u001b[0mmonthly_counts\u001b[0m \u001b[0;34m=\u001b[0m \u001b[0mincidents\u001b[0m\u001b[0;34m[\u001b[0m\u001b[0;34m\"INCIDENT_MONTH\"\u001b[0m\u001b[0;34m]\u001b[0m\u001b[0;34m.\u001b[0m\u001b[0mvalue_counts\u001b[0m\u001b[0;34m(\u001b[0m\u001b[0;34m)\u001b[0m\u001b[0;34m.\u001b[0m\u001b[0msort_index\u001b[0m\u001b[0;34m(\u001b[0m\u001b[0;34m)\u001b[0m\u001b[0;34m\u001b[0m\u001b[0;34m\u001b[0m\u001b[0m\n\u001b[0m\u001b[1;32m      9\u001b[0m \u001b[0;34m\u001b[0m\u001b[0m\n\u001b[1;32m     10\u001b[0m \u001b[0mplt\u001b[0m\u001b[0;34m.\u001b[0m\u001b[0mfigure\u001b[0m\u001b[0;34m(\u001b[0m\u001b[0mfigsize\u001b[0m\u001b[0;34m=\u001b[0m\u001b[0;34m(\u001b[0m\u001b[0;36m10\u001b[0m\u001b[0;34m,\u001b[0m\u001b[0;36m5\u001b[0m\u001b[0;34m)\u001b[0m\u001b[0;34m)\u001b[0m\u001b[0;34m\u001b[0m\u001b[0;34m\u001b[0m\u001b[0m\n",
      "\u001b[0;32m~/opt/anaconda3/lib/python3.8/site-packages/pandas/core/frame.py\u001b[0m in \u001b[0;36m__getitem__\u001b[0;34m(self, key)\u001b[0m\n\u001b[1;32m   3022\u001b[0m             \u001b[0;32mif\u001b[0m \u001b[0mself\u001b[0m\u001b[0;34m.\u001b[0m\u001b[0mcolumns\u001b[0m\u001b[0;34m.\u001b[0m\u001b[0mnlevels\u001b[0m \u001b[0;34m>\u001b[0m \u001b[0;36m1\u001b[0m\u001b[0;34m:\u001b[0m\u001b[0;34m\u001b[0m\u001b[0;34m\u001b[0m\u001b[0m\n\u001b[1;32m   3023\u001b[0m                 \u001b[0;32mreturn\u001b[0m \u001b[0mself\u001b[0m\u001b[0;34m.\u001b[0m\u001b[0m_getitem_multilevel\u001b[0m\u001b[0;34m(\u001b[0m\u001b[0mkey\u001b[0m\u001b[0;34m)\u001b[0m\u001b[0;34m\u001b[0m\u001b[0;34m\u001b[0m\u001b[0m\n\u001b[0;32m-> 3024\u001b[0;31m             \u001b[0mindexer\u001b[0m \u001b[0;34m=\u001b[0m \u001b[0mself\u001b[0m\u001b[0;34m.\u001b[0m\u001b[0mcolumns\u001b[0m\u001b[0;34m.\u001b[0m\u001b[0mget_loc\u001b[0m\u001b[0;34m(\u001b[0m\u001b[0mkey\u001b[0m\u001b[0;34m)\u001b[0m\u001b[0;34m\u001b[0m\u001b[0;34m\u001b[0m\u001b[0m\n\u001b[0m\u001b[1;32m   3025\u001b[0m             \u001b[0;32mif\u001b[0m \u001b[0mis_integer\u001b[0m\u001b[0;34m(\u001b[0m\u001b[0mindexer\u001b[0m\u001b[0;34m)\u001b[0m\u001b[0;34m:\u001b[0m\u001b[0;34m\u001b[0m\u001b[0;34m\u001b[0m\u001b[0m\n\u001b[1;32m   3026\u001b[0m                 \u001b[0mindexer\u001b[0m \u001b[0;34m=\u001b[0m \u001b[0;34m[\u001b[0m\u001b[0mindexer\u001b[0m\u001b[0;34m]\u001b[0m\u001b[0;34m\u001b[0m\u001b[0;34m\u001b[0m\u001b[0m\n",
      "\u001b[0;32m~/opt/anaconda3/lib/python3.8/site-packages/pandas/core/indexes/base.py\u001b[0m in \u001b[0;36mget_loc\u001b[0;34m(self, key, method, tolerance)\u001b[0m\n\u001b[1;32m   3080\u001b[0m                 \u001b[0;32mreturn\u001b[0m \u001b[0mself\u001b[0m\u001b[0;34m.\u001b[0m\u001b[0m_engine\u001b[0m\u001b[0;34m.\u001b[0m\u001b[0mget_loc\u001b[0m\u001b[0;34m(\u001b[0m\u001b[0mcasted_key\u001b[0m\u001b[0;34m)\u001b[0m\u001b[0;34m\u001b[0m\u001b[0;34m\u001b[0m\u001b[0m\n\u001b[1;32m   3081\u001b[0m             \u001b[0;32mexcept\u001b[0m \u001b[0mKeyError\u001b[0m \u001b[0;32mas\u001b[0m \u001b[0merr\u001b[0m\u001b[0;34m:\u001b[0m\u001b[0;34m\u001b[0m\u001b[0;34m\u001b[0m\u001b[0m\n\u001b[0;32m-> 3082\u001b[0;31m                 \u001b[0;32mraise\u001b[0m \u001b[0mKeyError\u001b[0m\u001b[0;34m(\u001b[0m\u001b[0mkey\u001b[0m\u001b[0;34m)\u001b[0m \u001b[0;32mfrom\u001b[0m \u001b[0merr\u001b[0m\u001b[0;34m\u001b[0m\u001b[0;34m\u001b[0m\u001b[0m\n\u001b[0m\u001b[1;32m   3083\u001b[0m \u001b[0;34m\u001b[0m\u001b[0m\n\u001b[1;32m   3084\u001b[0m         \u001b[0;32mif\u001b[0m \u001b[0mtolerance\u001b[0m \u001b[0;32mis\u001b[0m \u001b[0;32mnot\u001b[0m \u001b[0;32mNone\u001b[0m\u001b[0;34m:\u001b[0m\u001b[0;34m\u001b[0m\u001b[0;34m\u001b[0m\u001b[0m\n",
      "\u001b[0;31mKeyError\u001b[0m: 'INCIDENT_MONTH'"
     ]
    }
   ],
   "source": [
    "import matplotlib.pyplot as plt\n",
    "\n",
    "# Preview incidents\n",
    "print(nibrs_ca[\"nibrs_incident\"].head())\n",
    "\n",
    "# Count incidents by month\n",
    "incidents = nibrs_ca[\"nibrs_incident\"]\n",
    "monthly_counts = incidents[\"INCIDENT_MONTH\"].value_counts().sort_index()\n",
    "\n",
    "plt.figure(figsize=(10,5))\n",
    "monthly_counts.plot(kind=\"bar\")\n",
    "plt.title(\"California NIBRS Incidents by Month (2021)\")\n",
    "plt.xlabel(\"Month\")\n",
    "plt.ylabel(\"Number of Incidents\")\n",
    "plt.show()\n"
   ]
  },
  {
   "cell_type": "code",
   "execution_count": 10,
   "metadata": {},
   "outputs": [
    {
     "data": {
      "image/png": "[encoded data removed]",
      "text/plain": [
       "<Figure size 720x360 with 1 Axes>"
      ]
     },
     "metadata": {
      "needs_background": "light"
     },
     "output_type": "display_data"
    }
   ],
   "source": [
    "# Make sure incident_date is parsed as datetime\n",
    "incidents = nibrs_ca[\"nibrs_incident\"].copy()\n",
    "incidents[\"incident_date\"] = pd.to_datetime(incidents[\"incident_date\"])\n",
    "\n",
    "# Extract month number\n",
    "incidents[\"month\"] = incidents[\"incident_date\"].dt.month\n",
    "\n",
    "# Count by month\n",
    "monthly_counts = incidents[\"month\"].value_counts().sort_index()\n",
    "\n",
    "import matplotlib.pyplot as plt\n",
    "plt.figure(figsize=(10,5))\n",
    "monthly_counts.plot(kind=\"bar\")\n",
    "plt.title(\"California NIBRS Incidents by Month (2021)\")\n",
    "plt.xlabel(\"Month\")\n",
    "plt.ylabel(\"Number of Incidents\")\n",
    "plt.show()\n"
   ]
  },
  {
   "cell_type": "code",
   "execution_count": 11,
   "metadata": {},
   "outputs": [
    {
     "name": "stdout",
     "output_type": "stream",
     "text": [
      "available tables: ['nibrs_prop_desc_type', 'nibrs_weapon_type', 'nibrs_assignment_type', 'ref_race', 'nibrs_arrest_type', 'nibrs_suspected_drug', 'nibrs_age', 'nibrs_injury', 'nibrs_arrestee', 'nibrs_victim_injury', 'nibrs_prop_loss_type', 'nibrs_ethnicity', 'nibrs_property_desc', 'nibrs_justifiable_force', 'nibrs_suspected_drug_type', 'nibrs_relationship', 'nibrs_bias_motivation', 'agencies', 'nibrs_using_list', 'nibrs_criminal_act', 'nibrs_month', 'nibrs_offense_type', 'nibrs_weapon', 'nibrs_victim_type', 'nibrs_bias_list', 'nibrs_incident', 'nibrs_drug_measure_type', 'ref_state', 'nibrs_property', 'nibrs_victim_circumstances', 'nibrs_activity_type', 'nibrs_circumstances', 'nibrs_cleared_except', 'nibrs_offense', 'nibrs_criminal_act_type', 'nibrs_offender', 'nibrs_arrestee_weapon', 'nibrs_victim_offense', 'nibrs_victim', 'nibrs_location_type']\n",
      "nibrs_offense in nibrs_ca -> True\n",
      "nibrs_offense_type in nibrs_ca -> True\n"
     ]
    }
   ],
   "source": [
    "# 1. confirm we have the offense and offense_type tables\n",
    "print(\"available tables:\", list(nibrs_ca.keys())[:40])\n",
    "\n",
    "# quick existence check\n",
    "for t in [\"nibrs_offense\", \"nibrs_offense_type\"]:\n",
    "    print(t, \"in nibrs_ca ->\", t in nibrs_ca)\n"
   ]
  },
  {
   "cell_type": "code",
   "execution_count": 12,
   "metadata": {},
   "outputs": [
    {
     "name": "stdout",
     "output_type": "stream",
     "text": [
      "offense columns: ['data_year', 'offense_id', 'incident_id', 'offense_code', 'attempt_complete_flag', 'location_id', 'num_premises_entered', 'method_entry_code']\n",
      "offense_type columns: ['offense_code', 'offense_name', 'crime_against', 'ct_flag', 'hc_flag', 'hc_code', 'offense_category_name', 'offense_group']\n"
     ]
    },
    {
     "data": {
      "text/html": [
       "<div>\n",
       "<style scoped>\n",
       "    .dataframe tbody tr th:only-of-type {\n",
       "        vertical-align: middle;\n",
       "    }\n",
       "\n",
       "    .dataframe tbody tr th {\n",
       "        vertical-align: top;\n",
       "    }\n",
       "\n",
       "    .dataframe thead th {\n",
       "        text-align: right;\n",
       "    }\n",
       "</style>\n",
       "<table border=\"1\" class=\"dataframe\">\n",
       "  <thead>\n",
       "    <tr style=\"text-align: right;\">\n",
       "      <th></th>\n",
       "      <th>data_year</th>\n",
       "      <th>offense_id</th>\n",
       "      <th>incident_id</th>\n",
       "      <th>offense_code</th>\n",
       "      <th>attempt_complete_flag</th>\n",
       "      <th>location_id</th>\n",
       "      <th>num_premises_entered</th>\n",
       "      <th>method_entry_code</th>\n",
       "    </tr>\n",
       "  </thead>\n",
       "  <tbody>\n",
       "    <tr>\n",
       "      <th>0</th>\n",
       "      <td>2021</td>\n",
       "      <td>170403568</td>\n",
       "      <td>141774651</td>\n",
       "      <td>11A</td>\n",
       "      <td>C</td>\n",
       "      <td>35</td>\n",
       "      <td>NaN</td>\n",
       "      <td>NaN</td>\n",
       "    </tr>\n",
       "    <tr>\n",
       "      <th>1</th>\n",
       "      <td>2021</td>\n",
       "      <td>164352006</td>\n",
       "      <td>136500530</td>\n",
       "      <td>13A</td>\n",
       "      <td>C</td>\n",
       "      <td>25</td>\n",
       "      <td>NaN</td>\n",
       "      <td>NaN</td>\n",
       "    </tr>\n",
       "    <tr>\n",
       "      <th>2</th>\n",
       "      <td>2021</td>\n",
       "      <td>164444800</td>\n",
       "      <td>136580646</td>\n",
       "      <td>13B</td>\n",
       "      <td>C</td>\n",
       "      <td>35</td>\n",
       "      <td>NaN</td>\n",
       "      <td>NaN</td>\n",
       "    </tr>\n",
       "    <tr>\n",
       "      <th>3</th>\n",
       "      <td>2021</td>\n",
       "      <td>164387076</td>\n",
       "      <td>136530548</td>\n",
       "      <td>13B</td>\n",
       "      <td>C</td>\n",
       "      <td>98</td>\n",
       "      <td>NaN</td>\n",
       "      <td>NaN</td>\n",
       "    </tr>\n",
       "    <tr>\n",
       "      <th>4</th>\n",
       "      <td>2021</td>\n",
       "      <td>164370837</td>\n",
       "      <td>136516079</td>\n",
       "      <td>13B</td>\n",
       "      <td>C</td>\n",
       "      <td>14</td>\n",
       "      <td>NaN</td>\n",
       "      <td>NaN</td>\n",
       "    </tr>\n",
       "  </tbody>\n",
       "</table>\n",
       "</div>"
      ],
      "text/plain": [
       "   data_year  offense_id  incident_id offense_code attempt_complete_flag  \\\n",
       "0       2021   170403568    141774651          11A                     C   \n",
       "1       2021   164352006    136500530          13A                     C   \n",
       "2       2021   164444800    136580646          13B                     C   \n",
       "3       2021   164387076    136530548          13B                     C   \n",
       "4       2021   164370837    136516079          13B                     C   \n",
       "\n",
       "   location_id  num_premises_entered method_entry_code  \n",
       "0           35                   NaN               NaN  \n",
       "1           25                   NaN               NaN  \n",
       "2           35                   NaN               NaN  \n",
       "3           98                   NaN               NaN  \n",
       "4           14                   NaN               NaN  "
      ]
     },
     "metadata": {},
     "output_type": "display_data"
    },
    {
     "data": {
      "text/html": [
       "<div>\n",
       "<style scoped>\n",
       "    .dataframe tbody tr th:only-of-type {\n",
       "        vertical-align: middle;\n",
       "    }\n",
       "\n",
       "    .dataframe tbody tr th {\n",
       "        vertical-align: top;\n",
       "    }\n",
       "\n",
       "    .dataframe thead th {\n",
       "        text-align: right;\n",
       "    }\n",
       "</style>\n",
       "<table border=\"1\" class=\"dataframe\">\n",
       "  <thead>\n",
       "    <tr style=\"text-align: right;\">\n",
       "      <th></th>\n",
       "      <th>offense_code</th>\n",
       "      <th>offense_name</th>\n",
       "      <th>crime_against</th>\n",
       "      <th>ct_flag</th>\n",
       "      <th>hc_flag</th>\n",
       "      <th>hc_code</th>\n",
       "      <th>offense_category_name</th>\n",
       "      <th>offense_group</th>\n",
       "    </tr>\n",
       "  </thead>\n",
       "  <tbody>\n",
       "    <tr>\n",
       "      <th>0</th>\n",
       "      <td>09A</td>\n",
       "      <td>Murder and Nonnegligent Manslaughter</td>\n",
       "      <td>Person</td>\n",
       "      <td>f</td>\n",
       "      <td>t</td>\n",
       "      <td>01</td>\n",
       "      <td>Homicide Offenses</td>\n",
       "      <td>A</td>\n",
       "    </tr>\n",
       "    <tr>\n",
       "      <th>1</th>\n",
       "      <td>09B</td>\n",
       "      <td>Negligent Manslaughter</td>\n",
       "      <td>Person</td>\n",
       "      <td>f</td>\n",
       "      <td>t</td>\n",
       "      <td></td>\n",
       "      <td>Homicide Offenses</td>\n",
       "      <td>A</td>\n",
       "    </tr>\n",
       "    <tr>\n",
       "      <th>2</th>\n",
       "      <td>09C</td>\n",
       "      <td>Justifiable Homicide</td>\n",
       "      <td>Person</td>\n",
       "      <td>f</td>\n",
       "      <td>f</td>\n",
       "      <td></td>\n",
       "      <td>Homicide Offenses</td>\n",
       "      <td>A</td>\n",
       "    </tr>\n",
       "    <tr>\n",
       "      <th>3</th>\n",
       "      <td>11A</td>\n",
       "      <td>Rape</td>\n",
       "      <td>Person</td>\n",
       "      <td>f</td>\n",
       "      <td>t</td>\n",
       "      <td>02</td>\n",
       "      <td>Sex Offenses</td>\n",
       "      <td>A</td>\n",
       "    </tr>\n",
       "    <tr>\n",
       "      <th>4</th>\n",
       "      <td>11B</td>\n",
       "      <td>Sodomy</td>\n",
       "      <td>Person</td>\n",
       "      <td>f</td>\n",
       "      <td>t</td>\n",
       "      <td>02</td>\n",
       "      <td>Sex Offenses</td>\n",
       "      <td>A</td>\n",
       "    </tr>\n",
       "  </tbody>\n",
       "</table>\n",
       "</div>"
      ],
      "text/plain": [
       "  offense_code                          offense_name crime_against ct_flag  \\\n",
       "0          09A  Murder and Nonnegligent Manslaughter        Person       f   \n",
       "1          09B                Negligent Manslaughter        Person       f   \n",
       "2          09C                  Justifiable Homicide        Person       f   \n",
       "3          11A                                  Rape        Person       f   \n",
       "4          11B                                Sodomy        Person       f   \n",
       "\n",
       "  hc_flag hc_code offense_category_name offense_group  \n",
       "0       t      01     Homicide Offenses             A  \n",
       "1       t             Homicide Offenses             A  \n",
       "2       f             Homicide Offenses             A  \n",
       "3       t      02          Sex Offenses             A  \n",
       "4       t      02          Sex Offenses             A  "
      ]
     },
     "metadata": {},
     "output_type": "display_data"
    }
   ],
   "source": [
    "import pandas as pd\n",
    "\n",
    "off = nibrs_ca[\"nibrs_offense\"].copy()\n",
    "off_type = nibrs_ca[\"nibrs_offense_type\"].copy()\n",
    "\n",
    "# normalize column names to lowercase/underscores\n",
    "def normalize_cols(df):\n",
    "    df = df.copy()\n",
    "    df.columns = (df.columns.str.strip()\n",
    "                             .str.lower()\n",
    "                             .str.replace(r\"\\s+\", \"_\", regex=True))\n",
    "    return df\n",
    "\n",
    "off = normalize_cols(off)\n",
    "off_type = normalize_cols(off_type)\n",
    "\n",
    "print(\"offense columns:\", off.columns.tolist())\n",
    "print(\"offense_type columns:\", off_type.columns.tolist())\n",
    "\n",
    "# show a small sample so you can see the fields\n",
    "display(off.head())\n",
    "display(off_type.head())\n"
   ]
  },
  {
   "cell_type": "code",
   "execution_count": 13,
   "metadata": {},
   "outputs": [
    {
     "name": "stdout",
     "output_type": "stream",
     "text": [
      "chosen join pair: ('offense_code', 'offense_code')\n"
     ]
    }
   ],
   "source": [
    "# Try a list of likely join pairs (left_col, right_col)\n",
    "candidates = [\n",
    "    (\"offense_type_id\", \"offense_type_id\"),\n",
    "    (\"offense_type\", \"offense_type\"),\n",
    "    (\"offense_code\", \"offense_code\"),\n",
    "    (\"offense_code_id\", \"offense_code_id\"),\n",
    "    (\"offense_id\", \"offense_id\"),\n",
    "    (\"offense_sequence\", \"offense_sequence\"),\n",
    "]\n",
    "\n",
    "join_pair = None\n",
    "for lcol, rcol in candidates:\n",
    "    if lcol in off.columns and rcol in off_type.columns:\n",
    "        join_pair = (lcol, rcol)\n",
    "        break\n",
    "\n",
    "print(\"chosen join pair:\", join_pair)\n",
    "if join_pair is None:\n",
    "    # fallback: look for any common column names\n",
    "    common = set(off.columns) & set(off_type.columns)\n",
    "    print(\"no candidate matched; common cols:\", common)\n"
   ]
  },
  {
   "cell_type": "code",
   "execution_count": 14,
   "metadata": {},
   "outputs": [
    {
     "name": "stdout",
     "output_type": "stream",
     "text": [
      "merged columns (sample): ['data_year', 'offense_id', 'incident_id', 'offense_code', 'attempt_complete_flag', 'location_id', 'num_premises_entered', 'method_entry_code', 'offense_name', 'crime_against', 'ct_flag', 'hc_flag', 'hc_code', 'offense_category_name', 'offense_group']\n"
     ]
    },
    {
     "data": {
      "text/html": [
       "<div>\n",
       "<style scoped>\n",
       "    .dataframe tbody tr th:only-of-type {\n",
       "        vertical-align: middle;\n",
       "    }\n",
       "\n",
       "    .dataframe tbody tr th {\n",
       "        vertical-align: top;\n",
       "    }\n",
       "\n",
       "    .dataframe thead th {\n",
       "        text-align: right;\n",
       "    }\n",
       "</style>\n",
       "<table border=\"1\" class=\"dataframe\">\n",
       "  <thead>\n",
       "    <tr style=\"text-align: right;\">\n",
       "      <th></th>\n",
       "      <th>offense_code</th>\n",
       "      <th>offense_code</th>\n",
       "    </tr>\n",
       "  </thead>\n",
       "  <tbody>\n",
       "    <tr>\n",
       "      <th>0</th>\n",
       "      <td>11A</td>\n",
       "      <td>11A</td>\n",
       "    </tr>\n",
       "    <tr>\n",
       "      <th>1</th>\n",
       "      <td>13A</td>\n",
       "      <td>13A</td>\n",
       "    </tr>\n",
       "    <tr>\n",
       "      <th>2</th>\n",
       "      <td>13B</td>\n",
       "      <td>13B</td>\n",
       "    </tr>\n",
       "    <tr>\n",
       "      <th>3</th>\n",
       "      <td>13B</td>\n",
       "      <td>13B</td>\n",
       "    </tr>\n",
       "    <tr>\n",
       "      <th>4</th>\n",
       "      <td>13B</td>\n",
       "      <td>13B</td>\n",
       "    </tr>\n",
       "  </tbody>\n",
       "</table>\n",
       "</div>"
      ],
      "text/plain": [
       "  offense_code offense_code\n",
       "0          11A          11A\n",
       "1          13A          13A\n",
       "2          13B          13B\n",
       "3          13B          13B\n",
       "4          13B          13B"
      ]
     },
     "metadata": {},
     "output_type": "display_data"
    }
   ],
   "source": [
    "if join_pair is None:\n",
    "    raise RuntimeError(\"No join key found automatically. Check offense/offense_type columns.\")\n",
    "\n",
    "left_key, right_key = join_pair\n",
    "off_merged = off.merge(off_type, left_on=left_key, right_on=right_key, how=\"left\", suffixes=(\"\", \"_type\"))\n",
    "\n",
    "print(\"merged columns (sample):\", off_merged.columns.tolist()[:40])\n",
    "display(off_merged[[left_key, right_key]].head())\n"
   ]
  },
  {
   "cell_type": "code",
   "execution_count": 15,
   "metadata": {},
   "outputs": [
    {
     "name": "stdout",
     "output_type": "stream",
     "text": [
      "possible label columns: ['offense_name', 'offense_category_name']\n",
      "chosen label column: offense_name\n"
     ]
    },
    {
     "data": {
      "text/html": [
       "<div>\n",
       "<style scoped>\n",
       "    .dataframe tbody tr th:only-of-type {\n",
       "        vertical-align: middle;\n",
       "    }\n",
       "\n",
       "    .dataframe tbody tr th {\n",
       "        vertical-align: top;\n",
       "    }\n",
       "\n",
       "    .dataframe thead th {\n",
       "        text-align: right;\n",
       "    }\n",
       "</style>\n",
       "<table border=\"1\" class=\"dataframe\">\n",
       "  <thead>\n",
       "    <tr style=\"text-align: right;\">\n",
       "      <th></th>\n",
       "      <th>offense_name</th>\n",
       "    </tr>\n",
       "  </thead>\n",
       "  <tbody>\n",
       "    <tr>\n",
       "      <th>0</th>\n",
       "      <td>Rape</td>\n",
       "    </tr>\n",
       "    <tr>\n",
       "      <th>1</th>\n",
       "      <td>Aggravated Assault</td>\n",
       "    </tr>\n",
       "    <tr>\n",
       "      <th>2</th>\n",
       "      <td>Simple Assault</td>\n",
       "    </tr>\n",
       "    <tr>\n",
       "      <th>3</th>\n",
       "      <td>Simple Assault</td>\n",
       "    </tr>\n",
       "    <tr>\n",
       "      <th>4</th>\n",
       "      <td>Simple Assault</td>\n",
       "    </tr>\n",
       "  </tbody>\n",
       "</table>\n",
       "</div>"
      ],
      "text/plain": [
       "         offense_name\n",
       "0                Rape\n",
       "1  Aggravated Assault\n",
       "2      Simple Assault\n",
       "3      Simple Assault\n",
       "4      Simple Assault"
      ]
     },
     "metadata": {},
     "output_type": "display_data"
    }
   ],
   "source": [
    "# find candidate label columns (prefer descriptive, human-readable fields)\n",
    "candidates_label = [c for c in off_merged.columns \n",
    "                    if any(k in c for k in (\"desc\",\"description\",\"name\",\"type\",\"label\"))]\n",
    "\n",
    "print(\"possible label columns:\", candidates_label)\n",
    "\n",
    "# heuristic: prefer 'offense_type_description' or similar, else first candidate, else fallback to an offense code column\n",
    "label_col = None\n",
    "preferred_order = [\"offense_type_description\", \"offense_type_desc\", \"offense_name\", \"offense_description\",\n",
    "                   \"offense_type\", \"offense_desc\", \"offense_code_desc\", \"offense_code\"]\n",
    "for p in preferred_order:\n",
    "    if p in off_merged.columns:\n",
    "        label_col = p\n",
    "        break\n",
    "\n",
    "if label_col is None and candidates_label:\n",
    "    label_col = candidates_label[0]\n",
    "\n",
    "if label_col is None:\n",
    "    # fallback to any column that looks like a code\n",
    "    for c in [\"offense_code\", \"offense_id\", \"offense_code_id\"]:\n",
    "        if c in off_merged.columns:\n",
    "            label_col = c\n",
    "            break\n",
    "\n",
    "print(\"chosen label column:\", label_col)\n",
    "display(off_merged[[label_col]].head())\n"
   ]
  },
  {
   "cell_type": "code",
   "execution_count": 22,
   "metadata": {},
   "outputs": [
    {
     "data": {
      "image/png": "[encoded data removed]",
      "text/plain": [
       "<Figure size 720x432 with 1 Axes>"
      ]
     },
     "metadata": {
      "needs_background": "light"
     },
     "output_type": "display_data"
    },
    {
     "data": {
      "text/html": [
       "<div>\n",
       "<style scoped>\n",
       "    .dataframe tbody tr th:only-of-type {\n",
       "        vertical-align: middle;\n",
       "    }\n",
       "\n",
       "    .dataframe tbody tr th {\n",
       "        vertical-align: top;\n",
       "    }\n",
       "\n",
       "    .dataframe thead th {\n",
       "        text-align: right;\n",
       "    }\n",
       "</style>\n",
       "<table border=\"1\" class=\"dataframe\">\n",
       "  <thead>\n",
       "    <tr style=\"text-align: right;\">\n",
       "      <th></th>\n",
       "      <th>count</th>\n",
       "      <th>pct</th>\n",
       "    </tr>\n",
       "  </thead>\n",
       "  <tbody>\n",
       "    <tr>\n",
       "      <th>Simple Assault</th>\n",
       "      <td>17800</td>\n",
       "      <td>16.12</td>\n",
       "    </tr>\n",
       "    <tr>\n",
       "      <th>Destruction/Damage/Vandalism of Property</th>\n",
       "      <td>14837</td>\n",
       "      <td>13.44</td>\n",
       "    </tr>\n",
       "    <tr>\n",
       "      <th>Theft From Motor Vehicle</th>\n",
       "      <td>14521</td>\n",
       "      <td>13.15</td>\n",
       "    </tr>\n",
       "    <tr>\n",
       "      <th>Drug/Narcotic Violations</th>\n",
       "      <td>13868</td>\n",
       "      <td>12.56</td>\n",
       "    </tr>\n",
       "    <tr>\n",
       "      <th>All Other Larceny</th>\n",
       "      <td>11535</td>\n",
       "      <td>10.45</td>\n",
       "    </tr>\n",
       "    <tr>\n",
       "      <th>Motor Vehicle Theft</th>\n",
       "      <td>11272</td>\n",
       "      <td>10.21</td>\n",
       "    </tr>\n",
       "    <tr>\n",
       "      <th>Drug Equipment Violations</th>\n",
       "      <td>8126</td>\n",
       "      <td>7.36</td>\n",
       "    </tr>\n",
       "    <tr>\n",
       "      <th>Aggravated Assault</th>\n",
       "      <td>7456</td>\n",
       "      <td>6.75</td>\n",
       "    </tr>\n",
       "    <tr>\n",
       "      <th>Burglary/Breaking &amp; Entering</th>\n",
       "      <td>7103</td>\n",
       "      <td>6.43</td>\n",
       "    </tr>\n",
       "    <tr>\n",
       "      <th>Shoplifting</th>\n",
       "      <td>3887</td>\n",
       "      <td>3.52</td>\n",
       "    </tr>\n",
       "  </tbody>\n",
       "</table>\n",
       "</div>"
      ],
      "text/plain": [
       "                                          count    pct\n",
       "Simple Assault                            17800  16.12\n",
       "Destruction/Damage/Vandalism of Property  14837  13.44\n",
       "Theft From Motor Vehicle                  14521  13.15\n",
       "Drug/Narcotic Violations                  13868  12.56\n",
       "All Other Larceny                         11535  10.45\n",
       "Motor Vehicle Theft                       11272  10.21\n",
       "Drug Equipment Violations                  8126   7.36\n",
       "Aggravated Assault                         7456   6.75\n",
       "Burglary/Breaking & Entering               7103   6.43\n",
       "Shoplifting                                3887   3.52"
      ]
     },
     "execution_count": 22,
     "metadata": {},
     "output_type": "execute_result"
    }
   ],
   "source": [
    "import matplotlib.pyplot as plt\n",
    "\n",
    "# create a cleaned label column (fill missing gracefully)\n",
    "off_merged[\"offense_label\"] = off_merged[label_col].fillna(\"UNKNOWN\").astype(str)\n",
    "\n",
    "# aggregate counts\n",
    "top10 = off_merged[\"offense_label\"].value_counts().nlargest(10)\n",
    "top10_pct = (top10 / top10.sum()) * 100\n",
    "\n",
    "# make a horizontal bar chart sorted top->bottom\n",
    "plt.figure(figsize=(10,6))\n",
    "top10.sort_values().plot(kind=\"barh\", edgecolor=\"k\")\n",
    "plt.title(\"Top 10 NIBRS Offense Types — California (2021)\")\n",
    "plt.xlabel(\"Number of offense records\")\n",
    "plt.tight_layout()\n",
    "plt.show()\n",
    "\n",
    "# also show a table with counts + percent\n",
    "top10_table = pd.DataFrame({\"count\": top10, \"pct\": top10_pct.round(2)})\n",
    "top10_table\n"
   ]
  },
  {
   "cell_type": "code",
   "execution_count": 26,
   "metadata": {},
   "outputs": [
    {
     "ename": "KeyError",
     "evalue": "'offense_type_id'",
     "output_type": "error",
     "traceback": [
      "\u001b[0;31m---------------------------------------------------------------------------\u001b[0m",
      "\u001b[0;31mKeyError\u001b[0m                                  Traceback (most recent call last)",
      "\u001b[0;32m<ipython-input-26-6d340da796a2>\u001b[0m in \u001b[0;36m<module>\u001b[0;34m\u001b[0m\n\u001b[1;32m      6\u001b[0m \u001b[0;34m\u001b[0m\u001b[0m\n\u001b[1;32m      7\u001b[0m \u001b[0;31m# Merge to get human-readable names\u001b[0m\u001b[0;34m\u001b[0m\u001b[0;34m\u001b[0m\u001b[0;34m\u001b[0m\u001b[0m\n\u001b[0;32m----> 8\u001b[0;31m \u001b[0moffenses\u001b[0m \u001b[0;34m=\u001b[0m \u001b[0moffenses\u001b[0m\u001b[0;34m.\u001b[0m\u001b[0mmerge\u001b[0m\u001b[0;34m(\u001b[0m\u001b[0moffense_types\u001b[0m\u001b[0;34m,\u001b[0m \u001b[0mon\u001b[0m\u001b[0;34m=\u001b[0m\u001b[0;34m\"offense_type_id\"\u001b[0m\u001b[0;34m,\u001b[0m \u001b[0mhow\u001b[0m\u001b[0;34m=\u001b[0m\u001b[0;34m\"left\"\u001b[0m\u001b[0;34m)\u001b[0m\u001b[0;34m\u001b[0m\u001b[0;34m\u001b[0m\u001b[0m\n\u001b[0m\u001b[1;32m      9\u001b[0m \u001b[0;34m\u001b[0m\u001b[0m\n\u001b[1;32m     10\u001b[0m \u001b[0;31m# Count incidents per offense type\u001b[0m\u001b[0;34m\u001b[0m\u001b[0;34m\u001b[0m\u001b[0;34m\u001b[0m\u001b[0m\n",
      "\u001b[0;32m~/opt/anaconda3/lib/python3.8/site-packages/pandas/core/frame.py\u001b[0m in \u001b[0;36mmerge\u001b[0;34m(self, right, how, on, left_on, right_on, left_index, right_index, sort, suffixes, copy, indicator, validate)\u001b[0m\n\u001b[1;32m   8193\u001b[0m         \u001b[0;32mfrom\u001b[0m \u001b[0mpandas\u001b[0m\u001b[0;34m.\u001b[0m\u001b[0mcore\u001b[0m\u001b[0;34m.\u001b[0m\u001b[0mreshape\u001b[0m\u001b[0;34m.\u001b[0m\u001b[0mmerge\u001b[0m \u001b[0;32mimport\u001b[0m \u001b[0mmerge\u001b[0m\u001b[0;34m\u001b[0m\u001b[0;34m\u001b[0m\u001b[0m\n\u001b[1;32m   8194\u001b[0m \u001b[0;34m\u001b[0m\u001b[0m\n\u001b[0;32m-> 8195\u001b[0;31m         return merge(\n\u001b[0m\u001b[1;32m   8196\u001b[0m             \u001b[0mself\u001b[0m\u001b[0;34m,\u001b[0m\u001b[0;34m\u001b[0m\u001b[0;34m\u001b[0m\u001b[0m\n\u001b[1;32m   8197\u001b[0m             \u001b[0mright\u001b[0m\u001b[0;34m,\u001b[0m\u001b[0;34m\u001b[0m\u001b[0;34m\u001b[0m\u001b[0m\n",
      "\u001b[0;32m~/opt/anaconda3/lib/python3.8/site-packages/pandas/core/reshape/merge.py\u001b[0m in \u001b[0;36mmerge\u001b[0;34m(left, right, how, on, left_on, right_on, left_index, right_index, sort, suffixes, copy, indicator, validate)\u001b[0m\n\u001b[1;32m     72\u001b[0m     \u001b[0mvalidate\u001b[0m\u001b[0;34m=\u001b[0m\u001b[0;32mNone\u001b[0m\u001b[0;34m,\u001b[0m\u001b[0;34m\u001b[0m\u001b[0;34m\u001b[0m\u001b[0m\n\u001b[1;32m     73\u001b[0m ) -> \"DataFrame\":\n\u001b[0;32m---> 74\u001b[0;31m     op = _MergeOperation(\n\u001b[0m\u001b[1;32m     75\u001b[0m         \u001b[0mleft\u001b[0m\u001b[0;34m,\u001b[0m\u001b[0;34m\u001b[0m\u001b[0;34m\u001b[0m\u001b[0m\n\u001b[1;32m     76\u001b[0m         \u001b[0mright\u001b[0m\u001b[0;34m,\u001b[0m\u001b[0;34m\u001b[0m\u001b[0;34m\u001b[0m\u001b[0m\n",
      "\u001b[0;32m~/opt/anaconda3/lib/python3.8/site-packages/pandas/core/reshape/merge.py\u001b[0m in \u001b[0;36m__init__\u001b[0;34m(self, left, right, how, on, left_on, right_on, axis, left_index, right_index, sort, suffixes, copy, indicator, validate)\u001b[0m\n\u001b[1;32m    666\u001b[0m             \u001b[0mself\u001b[0m\u001b[0;34m.\u001b[0m\u001b[0mright_join_keys\u001b[0m\u001b[0;34m,\u001b[0m\u001b[0;34m\u001b[0m\u001b[0;34m\u001b[0m\u001b[0m\n\u001b[1;32m    667\u001b[0m             \u001b[0mself\u001b[0m\u001b[0;34m.\u001b[0m\u001b[0mjoin_names\u001b[0m\u001b[0;34m,\u001b[0m\u001b[0;34m\u001b[0m\u001b[0;34m\u001b[0m\u001b[0m\n\u001b[0;32m--> 668\u001b[0;31m         ) = self._get_merge_keys()\n\u001b[0m\u001b[1;32m    669\u001b[0m \u001b[0;34m\u001b[0m\u001b[0m\n\u001b[1;32m    670\u001b[0m         \u001b[0;31m# validate the merge keys dtypes. We may need to coerce\u001b[0m\u001b[0;34m\u001b[0m\u001b[0;34m\u001b[0m\u001b[0;34m\u001b[0m\u001b[0m\n",
      "\u001b[0;32m~/opt/anaconda3/lib/python3.8/site-packages/pandas/core/reshape/merge.py\u001b[0m in \u001b[0;36m_get_merge_keys\u001b[0;34m(self)\u001b[0m\n\u001b[1;32m   1031\u001b[0m                     \u001b[0;32mif\u001b[0m \u001b[0;32mnot\u001b[0m \u001b[0mis_rkey\u001b[0m\u001b[0;34m(\u001b[0m\u001b[0mrk\u001b[0m\u001b[0;34m)\u001b[0m\u001b[0;34m:\u001b[0m\u001b[0;34m\u001b[0m\u001b[0;34m\u001b[0m\u001b[0m\n\u001b[1;32m   1032\u001b[0m                         \u001b[0;32mif\u001b[0m \u001b[0mrk\u001b[0m \u001b[0;32mis\u001b[0m \u001b[0;32mnot\u001b[0m \u001b[0;32mNone\u001b[0m\u001b[0;34m:\u001b[0m\u001b[0;34m\u001b[0m\u001b[0;34m\u001b[0m\u001b[0m\n\u001b[0;32m-> 1033\u001b[0;31m                             \u001b[0mright_keys\u001b[0m\u001b[0;34m.\u001b[0m\u001b[0mappend\u001b[0m\u001b[0;34m(\u001b[0m\u001b[0mright\u001b[0m\u001b[0;34m.\u001b[0m\u001b[0m_get_label_or_level_values\u001b[0m\u001b[0;34m(\u001b[0m\u001b[0mrk\u001b[0m\u001b[0;34m)\u001b[0m\u001b[0;34m)\u001b[0m\u001b[0;34m\u001b[0m\u001b[0;34m\u001b[0m\u001b[0m\n\u001b[0m\u001b[1;32m   1034\u001b[0m                         \u001b[0;32melse\u001b[0m\u001b[0;34m:\u001b[0m\u001b[0;34m\u001b[0m\u001b[0;34m\u001b[0m\u001b[0m\n\u001b[1;32m   1035\u001b[0m                             \u001b[0;31m# work-around for merge_asof(right_index=True)\u001b[0m\u001b[0;34m\u001b[0m\u001b[0;34m\u001b[0m\u001b[0;34m\u001b[0m\u001b[0m\n",
      "\u001b[0;32m~/opt/anaconda3/lib/python3.8/site-packages/pandas/core/generic.py\u001b[0m in \u001b[0;36m_get_label_or_level_values\u001b[0;34m(self, key, axis)\u001b[0m\n\u001b[1;32m   1682\u001b[0m             \u001b[0mvalues\u001b[0m \u001b[0;34m=\u001b[0m \u001b[0mself\u001b[0m\u001b[0;34m.\u001b[0m\u001b[0maxes\u001b[0m\u001b[0;34m[\u001b[0m\u001b[0maxis\u001b[0m\u001b[0;34m]\u001b[0m\u001b[0;34m.\u001b[0m\u001b[0mget_level_values\u001b[0m\u001b[0;34m(\u001b[0m\u001b[0mkey\u001b[0m\u001b[0;34m)\u001b[0m\u001b[0;34m.\u001b[0m\u001b[0m_values\u001b[0m\u001b[0;34m\u001b[0m\u001b[0;34m\u001b[0m\u001b[0m\n\u001b[1;32m   1683\u001b[0m         \u001b[0;32melse\u001b[0m\u001b[0;34m:\u001b[0m\u001b[0;34m\u001b[0m\u001b[0;34m\u001b[0m\u001b[0m\n\u001b[0;32m-> 1684\u001b[0;31m             \u001b[0;32mraise\u001b[0m \u001b[0mKeyError\u001b[0m\u001b[0;34m(\u001b[0m\u001b[0mkey\u001b[0m\u001b[0;34m)\u001b[0m\u001b[0;34m\u001b[0m\u001b[0;34m\u001b[0m\u001b[0m\n\u001b[0m\u001b[1;32m   1685\u001b[0m \u001b[0;34m\u001b[0m\u001b[0m\n\u001b[1;32m   1686\u001b[0m         \u001b[0;31m# Check for duplicates\u001b[0m\u001b[0;34m\u001b[0m\u001b[0;34m\u001b[0m\u001b[0;34m\u001b[0m\u001b[0m\n",
      "\u001b[0;31mKeyError\u001b[0m: 'offense_type_id'"
     ]
    }
   ],
   "source": [
    "import matplotlib.pyplot as plt\n",
    "\n",
    "# Pull the offense + offense_type tables\n",
    "offenses = nibrs_ca[\"nibrs_offense\"]\n",
    "offense_types = nibrs_ca[\"nibrs_offense_type\"]\n",
    "\n",
    "# Merge to get human-readable names\n",
    "offenses = offenses.merge(offense_types, on=\"offense_type_id\", how=\"left\")\n",
    "\n",
    "# Count incidents per offense type\n",
    "offense_counts = offenses.groupby(\"offense_name\").size().sort_values(ascending=False)\n",
    "top10 = offense_counts.head(10)\n",
    "\n",
    "# Plot top 10\n",
    "fig, ax = plt.subplots(figsize=(10, 6))\n",
    "top10.plot(kind=\"barh\", ax=ax, color=\"steelblue\")\n",
    "ax.set_title(\"Top 10 Most Common Offense Types in CA (2021)\")\n",
    "ax.set_xlabel(\"Number of Incidents\")\n",
    "ax.invert_yaxis()\n",
    "\n",
    "# Save figure\n",
    "import os\n",
    "os.makedirs(\"figures\", exist_ok=True)\n",
    "fig.savefig(\"figures/top10_offense_types_ca_2021.png\", dpi=300, bbox_inches=\"tight\")\n",
    "plt.show()\n"
   ]
  },
  {
   "cell_type": "code",
   "execution_count": 27,
   "metadata": {},
   "outputs": [
    {
     "data": {
      "text/plain": [
       "Index(['data_year', 'offense_id', 'incident_id', 'offense_code',\n",
       "       'attempt_complete_flag', 'location_id', 'num_premises_entered',\n",
       "       'method_entry_code'],\n",
       "      dtype='object')"
      ]
     },
     "execution_count": 27,
     "metadata": {},
     "output_type": "execute_result"
    }
   ],
   "source": [
    "nibrs_ca[\"nibrs_offense\"].columns\n"
   ]
  },
  {
   "cell_type": "code",
   "execution_count": 28,
   "metadata": {},
   "outputs": [
    {
     "data": {
      "text/plain": [
       "Index(['offense_code', 'offense_name', 'crime_against', 'ct_flag', 'hc_flag',\n",
       "       'hc_code', 'offense_category_name', 'offense_group'],\n",
       "      dtype='object')"
      ]
     },
     "execution_count": 28,
     "metadata": {},
     "output_type": "execute_result"
    }
   ],
   "source": [
    "nibrs_ca[\"nibrs_offense_type\"].columns\n"
   ]
  },
  {
   "cell_type": "code",
   "execution_count": 30,
   "metadata": {},
   "outputs": [
    {
     "data": {
      "image/png": "[encoded data removed]",
      "text/plain": [
       "<Figure size 720x432 with 1 Axes>"
      ]
     },
     "metadata": {
      "needs_background": "light"
     },
     "output_type": "display_data"
    }
   ],
   "source": [
    "import seaborn as sns\n",
    "\n",
    "# Sort descending for horizontal bar plot\n",
    "top10_sorted = top10.sort_values(ascending=True)\n",
    "\n",
    "plt.figure(figsize=(10,6))\n",
    "sns.barplot(\n",
    "    x=top10_sorted.values,\n",
    "    y=top10_sorted.index,\n",
    "    palette=\"Blues_r\"\n",
    ")\n",
    "\n",
    "# Titles and labels\n",
    "plt.title(\"Top 10 Offense Types in California (2021 NIBRS)\", fontsize=14, weight=\"bold\")\n",
    "plt.xlabel(\"Number of Offenses\")\n",
    "plt.ylabel(\"Offense Type\")\n",
    "\n",
    "# Add value labels at the end of each bar\n",
    "for i, v in enumerate(top10_sorted.values):\n",
    "    plt.text(v + 500, i, f\"{v:,}\", va=\"center\", fontsize=9)\n",
    "\n",
    "plt.tight_layout()\n",
    "\n",
    "# Save high-res version\n",
    "os.makedirs(\"figures\", exist_ok=True)\n",
    "plt.savefig(\"figures/top10_offense_types_ca_2021.png\", dpi=300, bbox_inches=\"tight\")\n",
    "plt.show()\n"
   ]
  },
  {
   "cell_type": "markdown",
   "metadata": {},
   "source": [
    "## Most Common Crimes in California (2021 NIBRS)\n",
    "\n",
    "The chart highlights the **top 10 offense types** reported in California during 2021.  \n",
    "We see that **Simple Assault** was the most frequent offense, with nearly **18,000 reported incidents**. This was followed by **Property Damage/Vandalism** (~14,800 cases) and **Theft from Motor Vehicles** (~14,500 cases).  \n",
    "\n",
    "A few key insights stand out:  \n",
    "- **Violent vs. property crimes:** While assaults are highly prevalent, property-related offenses (theft, burglary, vandalism) make up a significant portion of the top 10.  \n",
    "- **Drug-related offenses:** Both *Drug/Narcotic Violations* (~13,900) and *Drug Equipment Violations* (~8,100) appear prominently, underscoring enforcement trends and the continued impact of drug-related activity.  \n",
    "- **Targeted property crimes:** Motor vehicle theft (~11,300) and shoplifting (~3,900) suggest recurring issues around specific property categories.  \n",
    "\n",
    "➡️ **Key takeaway:** Crime in California is driven by a mix of **interpersonal violence (assaults)** and **property-related offenses**, with drug activity also playing a central role. This distribution provides a strong baseline for deeper geospatial mapping and hotspot analysis.\n"
   ]
  },
  {
   "cell_type": "code",
   "execution_count": 31,
   "metadata": {},
   "outputs": [
    {
     "name": "stdout",
     "output_type": "stream",
     "text": [
      "offense_name\n",
      "Simple Assault                              17800\n",
      "Destruction/Damage/Vandalism of Property    14837\n",
      "Theft From Motor Vehicle                    14521\n",
      "Drug/Narcotic Violations                    13868\n",
      "All Other Larceny                           11535\n",
      "Motor Vehicle Theft                         11272\n",
      "Drug Equipment Violations                    8126\n",
      "Aggravated Assault                           7456\n",
      "Burglary/Breaking & Entering                 7103\n",
      "Shoplifting                                  3887\n",
      "dtype: int64\n"
     ]
    }
   ],
   "source": [
    "print(top10)"
   ]
  },
  {
   "cell_type": "code",
   "execution_count": null,
   "metadata": {},
   "outputs": [],
   "source": []
  }
 ],
 "metadata": {
  "kernelspec": {
   "display_name": "base",
   "language": "python",
   "name": "python3"
  },
  "language_info": {
   "codemirror_mode": {
    "name": "ipython",
    "version": 3
   },
   "file_extension": ".py",
   "mimetype": "text/x-python",
   "name": "python",
   "nbconvert_exporter": "python",
   "pygments_lexer": "ipython3",
   "version": "3.8.8"
  }
 },
 "nbformat": 4,
 "nbformat_minor": 2
}
